{
 "cells": [
  {
   "cell_type": "markdown",
   "metadata": {},
   "source": [
    "# The fingerprint of anthropogenic warming on wet bulb temp in CMIP6 models\n",
    "#### Christopher Callahan\n",
    "#### Christopher.W.Callahan.GR@dartmouth.edu"
   ]
  },
  {
   "cell_type": "markdown",
   "metadata": {},
   "source": [
    "#### Mechanics\n",
    "Dependencies"
   ]
  },
  {
   "cell_type": "code",
   "execution_count": 2,
   "metadata": {},
   "outputs": [],
   "source": [
    "import xarray as xr\n",
    "import numpy as np\n",
    "import sys\n",
    "import os\n",
    "import datetime\n",
    "import pandas as pd\n",
    "import matplotlib.pyplot as plt\n",
    "from matplotlib import rcParams\n",
    "import seaborn as sns\n",
    "from scipy import stats\n",
    "from sklearn import linear_model\n",
    "import statsmodels.api as sm\n",
    "import statsmodels.formula.api as smf\n",
    "from eofs.xarray import Eof"
   ]
  },
  {
   "cell_type": "markdown",
   "metadata": {},
   "source": [
    "Data location"
   ]
  },
  {
   "cell_type": "code",
   "execution_count": 3,
   "metadata": {},
   "outputs": [],
   "source": [
    "loc_cmip6 = \"../Data/Tw/CMIP6/\"\n",
    "loc_obs = \"../Data/Tw/ERA5/\"\n",
    "loc_out = \"../Data/Fingerprint/\""
   ]
  },
  {
   "cell_type": "markdown",
   "metadata": {},
   "source": [
    "models"
   ]
  },
  {
   "cell_type": "code",
   "execution_count": 4,
   "metadata": {},
   "outputs": [],
   "source": [
    "models = [\"access-cm2\",\"access-esm1-5\",\"bcc-csm2-mr\",\\\n",
    "            \"canesm5\",\"fgoals-g3\",\"mri-esm2-0\"]\n",
    "nmodels = len(models)"
   ]
  },
  {
   "cell_type": "markdown",
   "metadata": {},
   "source": [
    "Years"
   ]
  },
  {
   "cell_type": "code",
   "execution_count": 5,
   "metadata": {},
   "outputs": [],
   "source": [
    "y1 = 1980\n",
    "y2 = 2019\n",
    "y1_fp = 1980\n",
    "y2_fp = 2017"
   ]
  },
  {
   "cell_type": "markdown",
   "metadata": {},
   "source": [
    "Functions"
   ]
  },
  {
   "cell_type": "code",
   "execution_count": 6,
   "metadata": {},
   "outputs": [],
   "source": [
    "def find_linear_trend(data):\n",
    "    # time x lat x lon data\n",
    "    # first a wrapper function to just\n",
    "    # get the single linear trend coefficient\n",
    "    # from np.polyfit\n",
    "    def linear_trend_coef(x, y):\n",
    "        pf = np.polyfit(x, y, 1)\n",
    "        return xr.DataArray(pf[0])\n",
    "    # create dummy array of time values (from 1 to length of the data)\n",
    "    # for each lat/lon point\n",
    "    timevals = xr.DataArray(np.arange(1,len(data.time)+1,1),\n",
    "                        coords=[data.time],dims=[\"time\"])\n",
    "    timevals = timevals.expand_dims(lat=data.lat,lon=data.lon)\n",
    "    # apply linear_trend_coef\n",
    "    # to \"timevals\" and \"data\"\n",
    "    # at each grid point\n",
    "    linear_trend = xr.apply_ufunc(linear_trend_coef,timevals,data,\n",
    "                            vectorize=True,input_core_dims=[[\"time\"],[\"time\"]])\n",
    "    return(linear_trend)\n",
    "\n",
    "def find_linear_trend_pvalue(data):\n",
    "    # time x lat x lon data\n",
    "    # first a wrapper function to just\n",
    "    # get the p-value on the linear trend\n",
    "    # from stats.linregress\n",
    "    def linear_pval(x, y):\n",
    "        slope, intercept, rvalue, pvalue, se = stats.linregress(x,y)\n",
    "        return(pvalue)\n",
    "    # create dummy array of time values (from 1 to length of the data)\n",
    "    # for each lat/lon point\n",
    "    timevals = xr.DataArray(np.arange(1,len(data.time)+1,1),\n",
    "                        coords=[data.time],dims=[\"time\"])\n",
    "    timevals = timevals.expand_dims(lat=data.lat,lon=data.lon)\n",
    "    # apply linear_pval\n",
    "    # to \"timevals\" and \"data\"\n",
    "    # at each grid point\n",
    "    linear_p = xr.apply_ufunc(linear_pval,timevals,data,\n",
    "                            vectorize=True,input_core_dims=[[\"time\"],[\"time\"]])\n",
    "    return(linear_p)"
   ]
  },
  {
   "cell_type": "markdown",
   "metadata": {},
   "source": [
    "#### Analysis"
   ]
  },
  {
   "cell_type": "markdown",
   "metadata": {},
   "source": [
    "Read in CMIP6 Tw"
   ]
  },
  {
   "cell_type": "code",
   "execution_count": 7,
   "metadata": {},
   "outputs": [
    {
     "name": "stdout",
     "output_type": "stream",
     "text": [
      "access-cm2\n",
      "access-esm1-5\n",
      "bcc-csm2-mr\n",
      "canesm5\n",
      "fgoals-g3\n",
      "mri-esm2-0\n"
     ]
    }
   ],
   "source": [
    "for m in models:\n",
    "    print(m)\n",
    "    tw_in_1 = xr.open_dataset(loc_cmip6+m+\"_tw_davies-jones_summer_\"+str(y1)+\"-\"+str(y2)+\".nc\").tw_max\n",
    "    tw_in = tw_in_1.loc[:,-60:60,:]\n",
    "    time = tw_in.time\n",
    "    lat = tw_in.lat\n",
    "    lon = tw_in.lon\n",
    "    if models.index(m)==0:\n",
    "        tw_max_all = xr.DataArray(np.full((len(models),len(time),len(lat),len(lon)),np.nan),\n",
    "                                 coords=[models,time,lat,lon],\n",
    "                                 dims=[\"model\",\"time\",\"lat\",\"lon\"])\n",
    "    tw_max_all.loc[m,:,:,:] = tw_in.values\n",
    "    \n",
    "#ds = xr.open_mfdataset(loc_cmip6+\"*_tw_davies-jones_summer_\"+str(y1)+\"-\"+str(y2)+\".nc\",\n",
    "#                      concat_dim=\"model\",combine=\"nested\")\n",
    "#ds.coords[\"model\"] = models"
   ]
  },
  {
   "cell_type": "code",
   "execution_count": 8,
   "metadata": {},
   "outputs": [
    {
     "name": "stderr",
     "output_type": "stream",
     "text": [
      "/dartfs-hpc/rc/home/y/f003k8y/.conda/envs/ccallahan/lib/python3.7/site-packages/xarray/core/nanops.py:142: RuntimeWarning: Mean of empty slice\n",
      "  return np.nanmean(a, axis=axis, dtype=dtype)\n"
     ]
    }
   ],
   "source": [
    "tw_max = tw_max_all.mean(dim=\"model\")"
   ]
  },
  {
   "cell_type": "markdown",
   "metadata": {},
   "source": [
    "Trends in tw max"
   ]
  },
  {
   "cell_type": "code",
   "execution_count": 12,
   "metadata": {},
   "outputs": [],
   "source": [
    "tw_max_trends = find_linear_trend(tw_max)"
   ]
  },
  {
   "cell_type": "markdown",
   "metadata": {},
   "source": [
    "What about global mean?"
   ]
  },
  {
   "cell_type": "code",
   "execution_count": 14,
   "metadata": {},
   "outputs": [],
   "source": [
    "tw_max_global = tw_max.mean(dim=[\"lat\",\"lon\"])\n",
    "tw_max_global.coords[\"time\"] = tw_max_global.time.dt.year.values"
   ]
  },
  {
   "cell_type": "code",
   "execution_count": 15,
   "metadata": {},
   "outputs": [
    {
     "data": {
      "image/png": "[encoded data removed]",
      "text/plain": [
       "<Figure size 648x432 with 1 Axes>"
      ]
     },
     "metadata": {
      "needs_background": "light"
     },
     "output_type": "display_data"
    }
   ],
   "source": [
    "fig = plt.figure(figsize=(9,6))\n",
    "rcParams[\"font.family\"] = \"sans-serif\"\n",
    "rcParams[\"font.sans-serif\"] = [\"Helvetica Neue\"]\n",
    "rcParams[\"font.size\"] = 20.0\n",
    "rcParams[\"axes.linewidth\"] = 1.3\n",
    "rcParams['xtick.major.size'] = 8\n",
    "rcParams['xtick.major.width'] = 1.3\n",
    "rcParams['ytick.major.size'] = 8\n",
    "rcParams['ytick.major.width'] = 1.3\n",
    "\n",
    "gs1 = gridspec.GridSpec(1,1)\n",
    "gs1.update(left=0.15,right=0.92,top=0.9,bottom=0.1,wspace=0.2,hspace=0.28)\n",
    "\n",
    "ax = plt.subplot(gs1[0,0])\n",
    "\n",
    "plt.plot(tw_max_global.time,tw_max_global,linewidth=1.5,\n",
    "         color=\"black\")\n",
    "lm = np.polyfit(tw_max_global.time.values,tw_max_global.values,1)\n",
    "yhat = np.polyval(lm,tw_max_global.time.values)\n",
    "plt.plot(tw_max_global.time.values,yhat,color=\"red\",linewidth=2)\n",
    "\n",
    "#plt.title(\"CMIP6 land wet bulb temperature\",pad=10)\n",
    "plt.ylim([22.5,24.5])\n",
    "plt.yticks([22.5,23,23.5,24,24.5])\n",
    "plt.ylabel(\"Global mean annual max Tw ($\\degree$C)\")\n",
    "\n",
    "#plt.text(2011,10.6,\"P < 0.001\",color=\"red\")\n",
    "\n",
    "plt.show()"
   ]
  },
  {
   "cell_type": "markdown",
   "metadata": {},
   "source": [
    "Now we'll create a set of anthropogenic signals \"fingerprints\". The trend map and EOFs, in particular."
   ]
  },
  {
   "cell_type": "code",
   "execution_count": 19,
   "metadata": {},
   "outputs": [],
   "source": [
    "fp1 = find_linear_trend(tw_max.loc[str(y1_fp)+\"-01-01\":str(y2_fp)+\"-12-31\",:,:])"
   ]
  },
  {
   "cell_type": "markdown",
   "metadata": {},
   "source": [
    "Calc EOF"
   ]
  },
  {
   "cell_type": "code",
   "execution_count": 20,
   "metadata": {},
   "outputs": [],
   "source": [
    "nmodes = 4"
   ]
  },
  {
   "cell_type": "code",
   "execution_count": 21,
   "metadata": {},
   "outputs": [],
   "source": [
    "eof_solver = Eof(tw_max.loc[str(y1_fp)+\"-01-01\":str(y2_fp)+\"-12-31\",:,:])\n",
    "eofs = eof_solver.eofs(neofs=nmodes)\n",
    "pcs = eof_solver.pcs(pcscaling=1,npcs=nmodes)\n",
    "vf = eof_solver.varianceFraction(neigs=nmodes)"
   ]
  },
  {
   "cell_type": "code",
   "execution_count": 22,
   "metadata": {},
   "outputs": [],
   "source": [
    "fp2 = eofs.loc[0,:,:]"
   ]
  },
  {
   "cell_type": "markdown",
   "metadata": {},
   "source": [
    "Write out fingerprints"
   ]
  },
  {
   "cell_type": "code",
   "execution_count": 19,
   "metadata": {},
   "outputs": [],
   "source": [
    "lat = fp1.lat\n",
    "lon = fp1.lon"
   ]
  },
  {
   "cell_type": "code",
   "execution_count": 23,
   "metadata": {},
   "outputs": [
    {
     "name": "stdout",
     "output_type": "stream",
     "text": [
      "/dartfs-hpc/rc/lab/C/CMIG/ccallahan/Other/Class/TMD/Fingerprint/CMIP6_tw_fingerprints_1980-2017.nc\n"
     ]
    }
   ],
   "source": [
    "fp_out = xr.Dataset({\"fingerprint1\":([\"lat\",\"lon\"],fp1.values),\n",
    "                     \"fingerprint2\":([\"lat\",\"lon\"],fp2.values)},\n",
    "                    coords={\"lat\":(\"lat\",lat),\n",
    "                            \"lon\":(\"lon\",lon)})\n",
    "\n",
    "fp_out.attrs[\"creation_date\"] = str(datetime.datetime.now())\n",
    "fp_out.attrs[\"created_by\"] = \"Christopher Callahan, Christopher.W.Callahan.GR@dartmouth.edu\"\n",
    "fp_out.attrs[\"variable_description\"] = \"fingerprint1: linear trend map; fingerprint2: leading EOF of ensemble mean\"\n",
    "fp_out.attrs[\"created_from\"] = os.getcwd()+\"/CMIP6_Tw_Fingerprint\"\n",
    "\n",
    "fname_out = loc_out+\"CMIP6_tw_fingerprints_\"+str(y1_fp)+\"-\"+str(y2_fp)+\".nc\"\n",
    "fp_out.to_netcdf(fname_out,mode=\"w\")\n",
    "print(fname_out,flush=True)"
   ]
  }
 ],
 "metadata": {
  "kernelspec": {
   "display_name": "Python ccallahan",
   "language": "python",
   "name": "ccallahan"
  },
  "language_info": {
   "codemirror_mode": {
    "name": "ipython",
    "version": 3
   },
   "file_extension": ".py",
   "mimetype": "text/x-python",
   "name": "python",
   "nbconvert_exporter": "python",
   "pygments_lexer": "ipython3",
   "version": "3.7.3"
  }
 },
 "nbformat": 4,
 "nbformat_minor": 2
}
